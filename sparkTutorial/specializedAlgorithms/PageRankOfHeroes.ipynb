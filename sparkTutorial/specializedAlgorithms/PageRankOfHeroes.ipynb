{
 "cells": [
  {
   "cell_type": "code",
   "execution_count": null,
   "metadata": {
    "collapsed": true
   },
   "outputs": [],
   "source": [
    "import org.apache.spark.SparkContext\n",
    "import org.apache.spark.graphx.{Edge, Graph, PartitionStrategy, VertexId}\n",
    "\n",
    "def parseNames(line:String):Option[(VertexId, String)] = {\n",
    "    var fields = line.split(\"\\\"\")\n",
    "    if (fields.length > 1) {\n",
    "      val heroId:Long = fields(0).trim.toLong\n",
    "      if (heroId < 6487) {\n",
    "        return Some(fields(0).trim.toLong, fields(1))\n",
    "      }\n",
    "    }\n",
    "    None\n",
    "  }\n",
    "\n",
    "def makeEdges(line:String):List[Edge[Int]] = {\n",
    "    import scala.collection.mutable.ListBuffer\n",
    "    var edges = new ListBuffer[Edge[Int]]()\n",
    "    val fields = line.split(\" \")\n",
    "    val origin = fields(0)\n",
    "\n",
    "    for (x <- 1 to (fields.length-1)) {\n",
    "      edges += Edge(origin.toLong, fields(x).toLong, 0)\n",
    "    }\n",
    "\n",
    "    edges.toList\n",
    "  }\n",
    "\n",
    "// vertices\n",
    "val names = sc.textFile(\"Marvel-names.txt\")\n",
    "val vertices = names.flatMap(parseNames)\n",
    "\n",
    "// edges\n",
    "val lines = sc.textFile(\"Marvel-graph.txt\")\n",
    "val edges = lines.flatMap(makeEdges)\n",
    "\n",
    "// graph\n",
    "val default = \"Nobody\"\n",
    "val graph = Graph(vertices, edges, default).cache()\n",
    "\n",
    "// calculating PageRank\n",
    "// TODO\n",
    "\n",
    "// calcularing triangle count\n",
    "// TODO"
   ]
  }
 ],
 "metadata": {
  "kernelspec": {
   "display_name": "Apache Toree - Scala",
   "language": "scala",
   "name": "apache_toree_scala"
  },
  "language_info": {
   "file_extension": ".scala",
   "name": "scala",
   "version": "2.11.8"
  }
 },
 "nbformat": 4,
 "nbformat_minor": 1
}
