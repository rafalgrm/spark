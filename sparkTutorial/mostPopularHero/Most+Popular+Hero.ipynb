{
 "cells": [
  {
   "cell_type": "code",
   "execution_count": 5,
   "metadata": {
    "collapsed": false
   },
   "outputs": [
    {
     "name": "stdout",
     "output_type": "stream",
     "text": [
      "CAPTAIN AMERICA\n"
     ]
    }
   ],
   "source": [
    "import org.apache.log4j._\n",
    "\n",
    "/* given line extracts heroID -> number of connections tuple*/\n",
    "def countCoOccurences(line:String) = {\n",
    "    var elements = line.split(\"\\\\s+\")\n",
    "    (elements(0).toInt, elements.length-1)\n",
    "}\n",
    "\n",
    "/* given line extracts heroID -> heroName tuple */\n",
    "def parseNames(line:String):Option[(Int, String)] = {\n",
    "    var fields = line.split(\"\\\"\")\n",
    "    if (fields.length > 1) {\n",
    "        Some(fields(0).trim.toInt, fields(1))\n",
    "    } else {\n",
    "        None\n",
    "    }\n",
    "}\n",
    "// logger\n",
    "Logger.getLogger(\"mostPopularHero\").setLevel(Level.DEBUG)\n",
    "\n",
    "// heroID -> name RDD\n",
    "val namesRdd = sc.textFile(\"Marvel-names.txt\").flatMap(parseNames)\n",
    "\n",
    "// heroID -> number of connections RDD\n",
    "val pairings = sc.textFile(\"Marvel-graph.txt\").map(countCoOccurences)\n",
    "\n",
    "val totalFriendsByCharacters = pairings.reduceByKey((x,y) => x+y)\n",
    "val flipped = totalFriendsByCharacters.map(x => (x._2, x._1))\n",
    "val mostPopular = flipped.max\n",
    "\n",
    "val mostPopularName = namesRdd.lookup(mostPopular._2)\n",
    "println(mostPopularName(0))"
   ]
  },
  {
   "cell_type": "code",
   "execution_count": null,
   "metadata": {
    "collapsed": true
   },
   "outputs": [],
   "source": []
  }
 ],
 "metadata": {
  "kernelspec": {
   "display_name": "Apache Toree - Scala",
   "language": "scala",
   "name": "apache_toree_scala"
  },
  "language_info": {
   "file_extension": ".scala",
   "name": "scala",
   "version": "2.11.8"
  }
 },
 "nbformat": 4,
 "nbformat_minor": 1
}
